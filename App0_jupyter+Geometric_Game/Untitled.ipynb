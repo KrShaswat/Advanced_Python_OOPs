{
 "cells": [
  {
   "cell_type": "code",
   "execution_count": 16,
   "id": "1c424021-8063-43f9-86cb-a93fba11dfe9",
   "metadata": {},
   "outputs": [],
   "source": [
    "from random import randint\n",
    "class Point:\n",
    "\n",
    "    def __init__(self, x, y):\n",
    "        self.x = x\n",
    "        self.y = y\n",
    "\n",
    "    def falls_in_rectangle(self, rectangle):\n",
    "        if rectangle.point1.x < self.x < rectangle.point2.x and rectangle.point1.y < self.y < rectangle.point2.y:\n",
    "            return True\n",
    "        else:\n",
    "            return False\n"
   ]
  },
  {
   "cell_type": "code",
   "execution_count": 17,
   "id": "6cc55341-a1c4-4764-89cd-9cb236ae7774",
   "metadata": {},
   "outputs": [],
   "source": [
    "class Rectangle:\n",
    "\n",
    "    def __init__(self, point1, point2):\n",
    "        self.point1 = point1\n",
    "        self.point2 = point2\n",
    "\n",
    "    def area(self):\n",
    "        return (self.point1.x - self.point2.x) *\\\n",
    "               (self.point1.y - self.point2.y)"
   ]
  },
  {
   "cell_type": "code",
   "execution_count": 18,
   "id": "a237632c-9534-4a22-a139-44e3f687590f",
   "metadata": {},
   "outputs": [],
   "source": [
    "rectangle = Rectangle(\n",
    "        Point(randint(0, 9), randint(0, 9)),\n",
    "        Point(randint(10, 19), randint(10, 19)))"
   ]
  },
  {
   "cell_type": "code",
   "execution_count": 19,
   "id": "36cb8445-8f00-4ff2-ab85-12aab9323aee",
   "metadata": {},
   "outputs": [
    {
     "name": "stdout",
     "output_type": "stream",
     "text": [
      "Rectangle Coordinates:  0 , 1 and 11 , 15\n"
     ]
    },
    {
     "name": "stdin",
     "output_type": "stream",
     "text": [
      "Guess X:  1\n",
      "Guess Y:  2\n"
     ]
    },
    {
     "name": "stdout",
     "output_type": "stream",
     "text": [
      "Your point was inside rectangle:  True\n"
     ]
    },
    {
     "name": "stdin",
     "output_type": "stream",
     "text": [
      "Guess reactangle area:  154\n"
     ]
    },
    {
     "name": "stdout",
     "output_type": "stream",
     "text": [
      "Your area was correct:  True\n"
     ]
    }
   ],
   "source": [
    "print(\"Rectangle Coordinates: \",\n",
    "        rectangle.point1.x, \",\",\n",
    "        rectangle.point1.y, \"and\",\n",
    "        rectangle.point2.x, \",\",\n",
    "        rectangle.point2.y)\n",
    "\n",
    "user_point = Point(float(input(\"Guess X: \")),\n",
    "        float(input(\"Guess Y: \")))\n",
    "\n",
    "print(\"Your point was inside rectangle: \", user_point.falls_in_rectangle(rectangle))\n",
    "\n",
    "user_area = (float(input(\"Guess reactangle area: \")))\n",
    "print(\"Your area was correct: \", rectangle.area() == user_area)"
   ]
  },
  {
   "cell_type": "code",
   "execution_count": 12,
   "id": "2f531b15-e3d8-4de2-aacc-7e455a7c5cda",
   "metadata": {},
   "outputs": [
    {
     "data": {
      "text/plain": [
       "0"
      ]
     },
     "execution_count": 12,
     "metadata": {},
     "output_type": "execute_result"
    }
   ],
   "source": [
    "rectangle.area()"
   ]
  },
  {
   "cell_type": "code",
   "execution_count": null,
   "id": "525a6e88-8f41-4af4-8d50-caa6d8e1c9f5",
   "metadata": {},
   "outputs": [],
   "source": []
  }
 ],
 "metadata": {
  "kernelspec": {
   "display_name": "Python 3 (ipykernel)",
   "language": "python",
   "name": "python3"
  },
  "language_info": {
   "codemirror_mode": {
    "name": "ipython",
    "version": 3
   },
   "file_extension": ".py",
   "mimetype": "text/x-python",
   "name": "python",
   "nbconvert_exporter": "python",
   "pygments_lexer": "ipython3",
   "version": "3.9.5"
  }
 },
 "nbformat": 4,
 "nbformat_minor": 5
}
